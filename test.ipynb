{
 "cells": [
  {
   "cell_type": "code",
   "execution_count": 1,
   "metadata": {},
   "outputs": [],
   "source": [
    "import pandas as pd\n",
    "\n",
    "from baybe.targets.enum import TargetMode\n",
    "from benchmarks.metrics import (\n",
    "    AreaUnderTheCurve,\n",
    "    AverageDegree,\n",
    "    AverageDistance,\n",
    "    CumulativeRegret,\n",
    "    Precision,\n",
    "    MeanConvergenceRateMetric,\n",
    "    DynamicConvergenceRateMetric,\n",
    "    Recall,\n",
    "    SimpleRegret,\n",
    "    NormalizedAreaUnderTheCurve,\n",
    ")\n"
   ]
  },
  {
   "cell_type": "code",
   "execution_count": 2,
   "metadata": {},
   "outputs": [
    {
     "name": "stdout",
     "output_type": "stream",
     "text": [
      "    Monte Carlo  Iteration  Objective\n",
      "0             1          1          1\n",
      "1             1          2          3\n",
      "2             1          3          6\n",
      "3             1          4         10\n",
      "4             2          1          2\n",
      "5             2          2          4\n",
      "6             2          3          7\n",
      "7             2          4         11\n",
      "8             3          1          3\n",
      "9             3          2          5\n",
      "10            3          3          8\n",
      "11            3          4         12\n",
      "12            4          1          4\n",
      "13            4          2          6\n",
      "14            4          3          9\n",
      "15            4          4         13\n"
     ]
    }
   ],
   "source": [
    "test_df = pd.DataFrame.from_dict(\n",
    "    {\n",
    "        \"Monte Carlo\": [1, 1, 1, 1, 2, 2, 2, 2, 3, 3, 3, 3, 4, 4, 4, 4],\n",
    "        \"Iteration\": [1, 2, 3, 4, 1, 2\n",
    "                      , 3, 4, 1, 2, 3, 4, 1, 2, 3, 4],\n",
    "        \"Objective\": [1, 3, 6, 10, 2, 4, 7, 11, 3, 5, 8, 12, 4, 6, 9, 13],\n",
    "    }\n",
    ")\n",
    "print(test_df)"
   ]
  },
  {
   "cell_type": "code",
   "execution_count": 7,
   "metadata": {},
   "outputs": [
    {
     "name": "stdout",
     "output_type": "stream",
     "text": [
      "0.38499999999999995\n"
     ]
    }
   ],
   "source": [
    "import pandas as pd\n",
    "from baybe.targets.enum import TargetMode\n",
    "from benchmarks.metrics.uncertanty_eval.uncertanty_area import UncertaintyCurveArea\n",
    "\n",
    "metric = UncertaintyCurveArea(\n",
    "    to_evaluate_row_header=\"value\",\n",
    "    doe_iteration_header=\"iteration\",\n",
    "    target_mode=TargetMode.MIN,\n",
    ")\n",
    "\n",
    "sample_data = pd.DataFrame(\n",
    "    {\"iteration\": [1, 1, 2, 2, 3, 3], \"value\": [0.1, 0.2, 0.2, 0.3, 0.3, 0.4]}\n",
    ")\n",
    "\n",
    "result = metric.evaluate(sample_data)\n",
    "assert isinstance(result, float)\n",
    "assert result >= 0\n",
    "print(result)"
   ]
  },
  {
   "cell_type": "code",
   "execution_count": 3,
   "metadata": {},
   "outputs": [
    {
     "name": "stdout",
     "output_type": "stream",
     "text": [
      "2.020952380952381\n"
     ]
    }
   ],
   "source": [
    "conv_rate = DynamicConvergenceRateMetric(TargetMode.MAX, \"Objective\", 15.0)\n",
    "print(conv_rate.evaluate(test_df))"
   ]
  },
  {
   "cell_type": "code",
   "execution_count": 4,
   "metadata": {},
   "outputs": [
    {
     "name": "stdout",
     "output_type": "stream",
     "text": [
      "0.7619047619047619\n"
     ]
    }
   ],
   "source": [
    "conv_rate = DynamicConvergenceRateMetric(TargetMode.MAX, \"Objective\", None)\n",
    "print(conv_rate.evaluate(test_df))"
   ]
  },
  {
   "cell_type": "code",
   "execution_count": 5,
   "metadata": {},
   "outputs": [
    {
     "ename": "KeyError",
     "evalue": "'Monte_Carlo_Run'",
     "output_type": "error",
     "traceback": [
      "\u001b[1;31m---------------------------------------------------------------------------\u001b[0m",
      "\u001b[1;31mKeyError\u001b[0m                                  Traceback (most recent call last)",
      "File \u001b[1;32mc:\\Users\\M303718\\Repos\\baybe_dev\\.venv\\lib\\site-packages\\pandas\\core\\indexes\\base.py:3805\u001b[0m, in \u001b[0;36mIndex.get_loc\u001b[1;34m(self, key)\u001b[0m\n\u001b[0;32m   3804\u001b[0m \u001b[38;5;28;01mtry\u001b[39;00m:\n\u001b[1;32m-> 3805\u001b[0m     \u001b[38;5;28;01mreturn\u001b[39;00m \u001b[38;5;28;43mself\u001b[39;49m\u001b[38;5;241;43m.\u001b[39;49m\u001b[43m_engine\u001b[49m\u001b[38;5;241;43m.\u001b[39;49m\u001b[43mget_loc\u001b[49m\u001b[43m(\u001b[49m\u001b[43mcasted_key\u001b[49m\u001b[43m)\u001b[49m\n\u001b[0;32m   3806\u001b[0m \u001b[38;5;28;01mexcept\u001b[39;00m \u001b[38;5;167;01mKeyError\u001b[39;00m \u001b[38;5;28;01mas\u001b[39;00m err:\n",
      "File \u001b[1;32mindex.pyx:167\u001b[0m, in \u001b[0;36mpandas._libs.index.IndexEngine.get_loc\u001b[1;34m()\u001b[0m\n",
      "File \u001b[1;32mindex.pyx:196\u001b[0m, in \u001b[0;36mpandas._libs.index.IndexEngine.get_loc\u001b[1;34m()\u001b[0m\n",
      "File \u001b[1;32mpandas\\\\_libs\\\\hashtable_class_helper.pxi:7081\u001b[0m, in \u001b[0;36mpandas._libs.hashtable.PyObjectHashTable.get_item\u001b[1;34m()\u001b[0m\n",
      "File \u001b[1;32mpandas\\\\_libs\\\\hashtable_class_helper.pxi:7089\u001b[0m, in \u001b[0;36mpandas._libs.hashtable.PyObjectHashTable.get_item\u001b[1;34m()\u001b[0m\n",
      "\u001b[1;31mKeyError\u001b[0m: 'Monte_Carlo_Run'",
      "\nThe above exception was the direct cause of the following exception:\n",
      "\u001b[1;31mKeyError\u001b[0m                                  Traceback (most recent call last)",
      "Cell \u001b[1;32mIn[5], line 3\u001b[0m\n\u001b[0;32m      1\u001b[0m avg_degree \u001b[38;5;241m=\u001b[39m AverageDegree(\n\u001b[0;32m      2\u001b[0m     \u001b[38;5;124m\"\u001b[39m\u001b[38;5;124myield_Input_with_Measurements\u001b[39m\u001b[38;5;124m\"\u001b[39m,\n\u001b[1;32m----> 3\u001b[0m     \u001b[43mtest_df\u001b[49m\u001b[43m[\u001b[49m\u001b[38;5;124;43m\"\u001b[39;49m\u001b[38;5;124;43mMonte_Carlo_Run\u001b[39;49m\u001b[38;5;124;43m\"\u001b[39;49m\u001b[43m]\u001b[49m\u001b[38;5;241m.\u001b[39mnunique(),\n\u001b[0;32m      4\u001b[0m     \u001b[38;5;124m\"\u001b[39m\u001b[38;5;124myield\u001b[39m\u001b[38;5;124m\"\u001b[39m,\n\u001b[0;32m      5\u001b[0m     TargetMode\u001b[38;5;241m.\u001b[39mMIN,\n\u001b[0;32m      6\u001b[0m     \u001b[38;5;241m2.0\u001b[39m\n\u001b[0;32m      7\u001b[0m )\n\u001b[0;32m      8\u001b[0m \u001b[38;5;28mprint\u001b[39m(avg_degree\u001b[38;5;241m.\u001b[39mevaluate(test_df))\n",
      "File \u001b[1;32mc:\\Users\\M303718\\Repos\\baybe_dev\\.venv\\lib\\site-packages\\pandas\\core\\frame.py:4102\u001b[0m, in \u001b[0;36mDataFrame.__getitem__\u001b[1;34m(self, key)\u001b[0m\n\u001b[0;32m   4100\u001b[0m \u001b[38;5;28;01mif\u001b[39;00m \u001b[38;5;28mself\u001b[39m\u001b[38;5;241m.\u001b[39mcolumns\u001b[38;5;241m.\u001b[39mnlevels \u001b[38;5;241m>\u001b[39m \u001b[38;5;241m1\u001b[39m:\n\u001b[0;32m   4101\u001b[0m     \u001b[38;5;28;01mreturn\u001b[39;00m \u001b[38;5;28mself\u001b[39m\u001b[38;5;241m.\u001b[39m_getitem_multilevel(key)\n\u001b[1;32m-> 4102\u001b[0m indexer \u001b[38;5;241m=\u001b[39m \u001b[38;5;28;43mself\u001b[39;49m\u001b[38;5;241;43m.\u001b[39;49m\u001b[43mcolumns\u001b[49m\u001b[38;5;241;43m.\u001b[39;49m\u001b[43mget_loc\u001b[49m\u001b[43m(\u001b[49m\u001b[43mkey\u001b[49m\u001b[43m)\u001b[49m\n\u001b[0;32m   4103\u001b[0m \u001b[38;5;28;01mif\u001b[39;00m is_integer(indexer):\n\u001b[0;32m   4104\u001b[0m     indexer \u001b[38;5;241m=\u001b[39m [indexer]\n",
      "File \u001b[1;32mc:\\Users\\M303718\\Repos\\baybe_dev\\.venv\\lib\\site-packages\\pandas\\core\\indexes\\base.py:3812\u001b[0m, in \u001b[0;36mIndex.get_loc\u001b[1;34m(self, key)\u001b[0m\n\u001b[0;32m   3807\u001b[0m     \u001b[38;5;28;01mif\u001b[39;00m \u001b[38;5;28misinstance\u001b[39m(casted_key, \u001b[38;5;28mslice\u001b[39m) \u001b[38;5;129;01mor\u001b[39;00m (\n\u001b[0;32m   3808\u001b[0m         \u001b[38;5;28misinstance\u001b[39m(casted_key, abc\u001b[38;5;241m.\u001b[39mIterable)\n\u001b[0;32m   3809\u001b[0m         \u001b[38;5;129;01mand\u001b[39;00m \u001b[38;5;28many\u001b[39m(\u001b[38;5;28misinstance\u001b[39m(x, \u001b[38;5;28mslice\u001b[39m) \u001b[38;5;28;01mfor\u001b[39;00m x \u001b[38;5;129;01min\u001b[39;00m casted_key)\n\u001b[0;32m   3810\u001b[0m     ):\n\u001b[0;32m   3811\u001b[0m         \u001b[38;5;28;01mraise\u001b[39;00m InvalidIndexError(key)\n\u001b[1;32m-> 3812\u001b[0m     \u001b[38;5;28;01mraise\u001b[39;00m \u001b[38;5;167;01mKeyError\u001b[39;00m(key) \u001b[38;5;28;01mfrom\u001b[39;00m \u001b[38;5;21;01merr\u001b[39;00m\n\u001b[0;32m   3813\u001b[0m \u001b[38;5;28;01mexcept\u001b[39;00m \u001b[38;5;167;01mTypeError\u001b[39;00m:\n\u001b[0;32m   3814\u001b[0m     \u001b[38;5;66;03m# If we have a listlike key, _check_indexing_error will raise\u001b[39;00m\n\u001b[0;32m   3815\u001b[0m     \u001b[38;5;66;03m#  InvalidIndexError. Otherwise we fall through and re-raise\u001b[39;00m\n\u001b[0;32m   3816\u001b[0m     \u001b[38;5;66;03m#  the TypeError.\u001b[39;00m\n\u001b[0;32m   3817\u001b[0m     \u001b[38;5;28mself\u001b[39m\u001b[38;5;241m.\u001b[39m_check_indexing_error(key)\n",
      "\u001b[1;31mKeyError\u001b[0m: 'Monte_Carlo_Run'"
     ]
    }
   ],
   "source": [
    "avg_degree = AverageDegree(\n",
    "    \"yield_Input_with_Measurements\",\n",
    "    test_df[\"Monte_Carlo_Run\"].nunique(),\n",
    "    \"yield\",\n",
    "    TargetMode.MIN,\n",
    "    2.0\n",
    ")\n",
    "print(avg_degree.evaluate(test_df))"
   ]
  },
  {
   "cell_type": "code",
   "execution_count": 5,
   "metadata": {},
   "outputs": [
    {
     "name": "stdout",
     "output_type": "stream",
     "text": [
      "111.11772012238374\n"
     ]
    }
   ],
   "source": [
    "avg_distance = AverageDistance(\n",
    "    \"yield_Input_with_Measurements\",\n",
    "    test_df[\"Monte_Carlo_Run\"].nunique(),\n",
    "    \"yield\",\n",
    "    TargetMode.MIN,\n",
    "    5,\n",
    ")\n",
    "print(avg_distance.evaluate(test_df))\n"
   ]
  },
  {
   "cell_type": "code",
   "execution_count": null,
   "metadata": {},
   "outputs": [
    {
     "name": "stdout",
     "output_type": "stream",
     "text": [
      "0.6106666666666667\n"
     ]
    }
   ],
   "source": [
    "precision = Precision(\n",
    "    \"yield_Input_with_Measurements\",\n",
    "    test_df[\"Monte_Carlo_Run\"].nunique(),\n",
    "    \"yield\",\n",
    "    TargetMode.MIN,\n",
    "    [\n",
    "        {\n",
    "            \"x0\": 2.20290558,\n",
    "            \"x1\": 1.57079628,\n",
    "            \"x2\": 1.28499156,\n",
    "            \"x3\": 1.92305846,\n",
    "            \"x4\": 1.72046977,\n",
    "        }\n",
    "    ],\n",
    "    2.0,\n",
    ")\n",
    "print(precision.evaluate(test_df))"
   ]
  },
  {
   "cell_type": "code",
   "execution_count": null,
   "metadata": {},
   "outputs": [
    {
     "name": "stdout",
     "output_type": "stream",
     "text": [
      "1.0\n"
     ]
    }
   ],
   "source": [
    "recall = Recall(\n",
    "    \"yield_Input_with_Measurements\",\n",
    "    test_df[\"Monte_Carlo_Run\"].nunique(),\n",
    "    \"yield\",\n",
    "    TargetMode.MIN,\n",
    "    [\n",
    "        {\n",
    "            \"x0\": 2.20290558,\n",
    "            \"x1\": 1.57079628,\n",
    "            \"x2\": 1.28499156,\n",
    "            \"x3\": 1.92305846,\n",
    "            \"x4\": 1.72046977,\n",
    "        }\n",
    "    ],\n",
    "    0.2,\n",
    ")\n",
    "print(recall.evaluate(test_df))\n"
   ]
  },
  {
   "cell_type": "code",
   "execution_count": 5,
   "metadata": {},
   "outputs": [
    {
     "name": "stdout",
     "output_type": "stream",
     "text": [
      "5.25\n"
     ]
    }
   ],
   "source": [
    "auc = AreaUnderTheCurve(TargetMode.MAX, \"Objective\")\n",
    "print(auc.evaluate(test_df))"
   ]
  },
  {
   "cell_type": "code",
   "execution_count": 11,
   "metadata": {},
   "outputs": [
    {
     "name": "stdout",
     "output_type": "stream",
     "text": [
      "0.65\n"
     ]
    }
   ],
   "source": [
    "n_auc = NormalizedAreaUnderTheCurve(TargetMode.MAX, \"Objective\", (0.0, -15.0))\n",
    "print(n_auc.evaluate(test_df))"
   ]
  },
  {
   "cell_type": "code",
   "execution_count": 6,
   "metadata": {},
   "outputs": [
    {
     "name": "stdout",
     "output_type": "stream",
     "text": [
      "    Monte Carlo  Iteration  Objective\n",
      "0             1          1          1\n",
      "1             1          2          3\n",
      "2             1          3          6\n",
      "3             1          4         10\n",
      "4             2          1          2\n",
      "5             2          2          4\n",
      "6             2          3          7\n",
      "7             2          4         11\n",
      "8             3          1          3\n",
      "9             3          2          5\n",
      "10            3          3          8\n",
      "11            3          4         12\n",
      "12            4          1          4\n",
      "13            4          2          6\n",
      "14            4          3          9\n",
      "15            4          4         13\n"
     ]
    }
   ],
   "source": [
    "print(test_df)"
   ]
  },
  {
   "cell_type": "code",
   "execution_count": 9,
   "metadata": {},
   "outputs": [
    {
     "name": "stdout",
     "output_type": "stream",
     "text": [
      "61.50547106756403\n"
     ]
    }
   ],
   "source": [
    "cr = CumulativeRegret(\"yield_CumBest\", \"yield\", 15.0)\n",
    "print(cr.evaluate(test_df))"
   ]
  },
  {
   "cell_type": "code",
   "execution_count": null,
   "metadata": {},
   "outputs": [
    {
     "name": "stdout",
     "output_type": "stream",
     "text": [
      "6.0\n"
     ]
    }
   ],
   "source": [
    "cr = SimpleRegret(\"Objective\", 15.0, TargetMode.MAX)\n",
    "print(cr.evaluate(test_df))"
   ]
  }
 ],
 "metadata": {
  "kernelspec": {
   "display_name": ".venv",
   "language": "python",
   "name": "python3"
  },
  "language_info": {
   "codemirror_mode": {
    "name": "ipython",
    "version": 3
   },
   "file_extension": ".py",
   "mimetype": "text/x-python",
   "name": "python",
   "nbconvert_exporter": "python",
   "pygments_lexer": "ipython3",
   "version": "3.10.5"
  }
 },
 "nbformat": 4,
 "nbformat_minor": 2
}
